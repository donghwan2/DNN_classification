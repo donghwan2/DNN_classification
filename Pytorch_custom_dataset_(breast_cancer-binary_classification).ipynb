{
 "cells": [
  {
   "cell_type": "raw",
   "metadata": {},
   "source": [
    "# 목표\n",
    "PyTorch Dataset 활용하여 유방암 데이터 이진 분류를 해보자\n",
    "\n",
    "# 주요 라이브러리\n",
    "from torch.utils.data import Dataset, DataLoader\n",
    "\n",
    "# 특징\n",
    "ignite 적용 전 - 학습 코드는 ignite로 좀 더 개선 가능\n",
    "\n",
    "# 순서\n",
    "1. 유방암 데이터 로드 및 나누기\n",
    "2. 학습 준비 (by Dataset, DataLoader)\n",
    "3. Build Model & Optimizer\n",
    "4. 학습(Train)\n",
    "5. 학습 결과 확인(plot)\n",
    "6. 테스트(test)"
   ]
  },
  {
   "cell_type": "code",
   "execution_count": 85,
   "metadata": {},
   "outputs": [],
   "source": [
    "import numpy as np\n",
    "import pandas as pd\n",
    "import seaborn as sns\n",
    "import matplotlib.pyplot as plt\n",
    "from tqdm import tqdm_notebook\n",
    "\n",
    "# Pytorch 라이브러리 \n",
    "import torch\n",
    "import torch.nn as nn\n",
    "import torch.nn.functional as F\n",
    "import torch.optim as optim\n",
    "\n",
    "# Pytorch.utils.data의 Dataset, DataLoader\n",
    "from torch.utils.data import Dataset, DataLoader"
   ]
  },
  {
   "cell_type": "markdown",
   "metadata": {},
   "source": [
    "# 1. 유방암 데이터 로드 및 나누기"
   ]
  },
  {
   "cell_type": "code",
   "execution_count": 4,
   "metadata": {},
   "outputs": [],
   "source": [
    "from sklearn.datasets import load_breast_cancer\n",
    "cancer = load_breast_cancer()"
   ]
  },
  {
   "cell_type": "code",
   "execution_count": 5,
   "metadata": {},
   "outputs": [
    {
     "name": "stdout",
     "output_type": "stream",
     "text": [
      "(569, 31)\n"
     ]
    },
    {
     "data": {
      "text/html": [
       "<div>\n",
       "<style scoped>\n",
       "    .dataframe tbody tr th:only-of-type {\n",
       "        vertical-align: middle;\n",
       "    }\n",
       "\n",
       "    .dataframe tbody tr th {\n",
       "        vertical-align: top;\n",
       "    }\n",
       "\n",
       "    .dataframe thead th {\n",
       "        text-align: right;\n",
       "    }\n",
       "</style>\n",
       "<table border=\"1\" class=\"dataframe\">\n",
       "  <thead>\n",
       "    <tr style=\"text-align: right;\">\n",
       "      <th></th>\n",
       "      <th>mean radius</th>\n",
       "      <th>mean texture</th>\n",
       "      <th>mean perimeter</th>\n",
       "      <th>mean area</th>\n",
       "      <th>mean smoothness</th>\n",
       "      <th>mean compactness</th>\n",
       "      <th>mean concavity</th>\n",
       "      <th>mean concave points</th>\n",
       "      <th>mean symmetry</th>\n",
       "      <th>mean fractal dimension</th>\n",
       "      <th>...</th>\n",
       "      <th>worst texture</th>\n",
       "      <th>worst perimeter</th>\n",
       "      <th>worst area</th>\n",
       "      <th>worst smoothness</th>\n",
       "      <th>worst compactness</th>\n",
       "      <th>worst concavity</th>\n",
       "      <th>worst concave points</th>\n",
       "      <th>worst symmetry</th>\n",
       "      <th>worst fractal dimension</th>\n",
       "      <th>class</th>\n",
       "    </tr>\n",
       "  </thead>\n",
       "  <tbody>\n",
       "    <tr>\n",
       "      <th>564</th>\n",
       "      <td>21.56</td>\n",
       "      <td>22.39</td>\n",
       "      <td>142.00</td>\n",
       "      <td>1479.0</td>\n",
       "      <td>0.11100</td>\n",
       "      <td>0.11590</td>\n",
       "      <td>0.24390</td>\n",
       "      <td>0.13890</td>\n",
       "      <td>0.1726</td>\n",
       "      <td>0.05623</td>\n",
       "      <td>...</td>\n",
       "      <td>26.40</td>\n",
       "      <td>166.10</td>\n",
       "      <td>2027.0</td>\n",
       "      <td>0.14100</td>\n",
       "      <td>0.21130</td>\n",
       "      <td>0.4107</td>\n",
       "      <td>0.2216</td>\n",
       "      <td>0.2060</td>\n",
       "      <td>0.07115</td>\n",
       "      <td>0</td>\n",
       "    </tr>\n",
       "    <tr>\n",
       "      <th>565</th>\n",
       "      <td>20.13</td>\n",
       "      <td>28.25</td>\n",
       "      <td>131.20</td>\n",
       "      <td>1261.0</td>\n",
       "      <td>0.09780</td>\n",
       "      <td>0.10340</td>\n",
       "      <td>0.14400</td>\n",
       "      <td>0.09791</td>\n",
       "      <td>0.1752</td>\n",
       "      <td>0.05533</td>\n",
       "      <td>...</td>\n",
       "      <td>38.25</td>\n",
       "      <td>155.00</td>\n",
       "      <td>1731.0</td>\n",
       "      <td>0.11660</td>\n",
       "      <td>0.19220</td>\n",
       "      <td>0.3215</td>\n",
       "      <td>0.1628</td>\n",
       "      <td>0.2572</td>\n",
       "      <td>0.06637</td>\n",
       "      <td>0</td>\n",
       "    </tr>\n",
       "    <tr>\n",
       "      <th>566</th>\n",
       "      <td>16.60</td>\n",
       "      <td>28.08</td>\n",
       "      <td>108.30</td>\n",
       "      <td>858.1</td>\n",
       "      <td>0.08455</td>\n",
       "      <td>0.10230</td>\n",
       "      <td>0.09251</td>\n",
       "      <td>0.05302</td>\n",
       "      <td>0.1590</td>\n",
       "      <td>0.05648</td>\n",
       "      <td>...</td>\n",
       "      <td>34.12</td>\n",
       "      <td>126.70</td>\n",
       "      <td>1124.0</td>\n",
       "      <td>0.11390</td>\n",
       "      <td>0.30940</td>\n",
       "      <td>0.3403</td>\n",
       "      <td>0.1418</td>\n",
       "      <td>0.2218</td>\n",
       "      <td>0.07820</td>\n",
       "      <td>0</td>\n",
       "    </tr>\n",
       "    <tr>\n",
       "      <th>567</th>\n",
       "      <td>20.60</td>\n",
       "      <td>29.33</td>\n",
       "      <td>140.10</td>\n",
       "      <td>1265.0</td>\n",
       "      <td>0.11780</td>\n",
       "      <td>0.27700</td>\n",
       "      <td>0.35140</td>\n",
       "      <td>0.15200</td>\n",
       "      <td>0.2397</td>\n",
       "      <td>0.07016</td>\n",
       "      <td>...</td>\n",
       "      <td>39.42</td>\n",
       "      <td>184.60</td>\n",
       "      <td>1821.0</td>\n",
       "      <td>0.16500</td>\n",
       "      <td>0.86810</td>\n",
       "      <td>0.9387</td>\n",
       "      <td>0.2650</td>\n",
       "      <td>0.4087</td>\n",
       "      <td>0.12400</td>\n",
       "      <td>0</td>\n",
       "    </tr>\n",
       "    <tr>\n",
       "      <th>568</th>\n",
       "      <td>7.76</td>\n",
       "      <td>24.54</td>\n",
       "      <td>47.92</td>\n",
       "      <td>181.0</td>\n",
       "      <td>0.05263</td>\n",
       "      <td>0.04362</td>\n",
       "      <td>0.00000</td>\n",
       "      <td>0.00000</td>\n",
       "      <td>0.1587</td>\n",
       "      <td>0.05884</td>\n",
       "      <td>...</td>\n",
       "      <td>30.37</td>\n",
       "      <td>59.16</td>\n",
       "      <td>268.6</td>\n",
       "      <td>0.08996</td>\n",
       "      <td>0.06444</td>\n",
       "      <td>0.0000</td>\n",
       "      <td>0.0000</td>\n",
       "      <td>0.2871</td>\n",
       "      <td>0.07039</td>\n",
       "      <td>1</td>\n",
       "    </tr>\n",
       "  </tbody>\n",
       "</table>\n",
       "<p>5 rows × 31 columns</p>\n",
       "</div>"
      ],
      "text/plain": [
       "     mean radius  mean texture  mean perimeter  mean area  mean smoothness  \\\n",
       "564        21.56         22.39          142.00     1479.0          0.11100   \n",
       "565        20.13         28.25          131.20     1261.0          0.09780   \n",
       "566        16.60         28.08          108.30      858.1          0.08455   \n",
       "567        20.60         29.33          140.10     1265.0          0.11780   \n",
       "568         7.76         24.54           47.92      181.0          0.05263   \n",
       "\n",
       "     mean compactness  mean concavity  mean concave points  mean symmetry  \\\n",
       "564           0.11590         0.24390              0.13890         0.1726   \n",
       "565           0.10340         0.14400              0.09791         0.1752   \n",
       "566           0.10230         0.09251              0.05302         0.1590   \n",
       "567           0.27700         0.35140              0.15200         0.2397   \n",
       "568           0.04362         0.00000              0.00000         0.1587   \n",
       "\n",
       "     mean fractal dimension  ...  worst texture  worst perimeter  worst area  \\\n",
       "564                 0.05623  ...          26.40           166.10      2027.0   \n",
       "565                 0.05533  ...          38.25           155.00      1731.0   \n",
       "566                 0.05648  ...          34.12           126.70      1124.0   \n",
       "567                 0.07016  ...          39.42           184.60      1821.0   \n",
       "568                 0.05884  ...          30.37            59.16       268.6   \n",
       "\n",
       "     worst smoothness  worst compactness  worst concavity  \\\n",
       "564           0.14100            0.21130           0.4107   \n",
       "565           0.11660            0.19220           0.3215   \n",
       "566           0.11390            0.30940           0.3403   \n",
       "567           0.16500            0.86810           0.9387   \n",
       "568           0.08996            0.06444           0.0000   \n",
       "\n",
       "     worst concave points  worst symmetry  worst fractal dimension  class  \n",
       "564                0.2216          0.2060                  0.07115      0  \n",
       "565                0.1628          0.2572                  0.06637      0  \n",
       "566                0.1418          0.2218                  0.07820      0  \n",
       "567                0.2650          0.4087                  0.12400      0  \n",
       "568                0.0000          0.2871                  0.07039      1  \n",
       "\n",
       "[5 rows x 31 columns]"
      ]
     },
     "execution_count": 5,
     "metadata": {},
     "output_type": "execute_result"
    }
   ],
   "source": [
    "df = pd.DataFrame(cancer.data, columns=cancer.feature_names)\n",
    "df['class'] = cancer.target\n",
    "\n",
    "print(df.shape)\n",
    "df.tail()"
   ]
  },
  {
   "cell_type": "code",
   "execution_count": 6,
   "metadata": {},
   "outputs": [
    {
     "data": {
      "text/plain": [
       "Index(['mean radius', 'mean texture', 'mean perimeter', 'mean area',\n",
       "       'mean smoothness', 'mean compactness', 'mean concavity',\n",
       "       'mean concave points', 'mean symmetry', 'mean fractal dimension',\n",
       "       'radius error', 'texture error', 'perimeter error', 'area error',\n",
       "       'smoothness error', 'compactness error', 'concavity error',\n",
       "       'concave points error', 'symmetry error', 'fractal dimension error',\n",
       "       'worst radius', 'worst texture', 'worst perimeter', 'worst area',\n",
       "       'worst smoothness', 'worst compactness', 'worst concavity',\n",
       "       'worst concave points', 'worst symmetry', 'worst fractal dimension',\n",
       "       'class'],\n",
       "      dtype='object')"
      ]
     },
     "execution_count": 6,
     "metadata": {},
     "output_type": "execute_result"
    }
   ],
   "source": [
    "df.columns"
   ]
  },
  {
   "cell_type": "code",
   "execution_count": 11,
   "metadata": {},
   "outputs": [
    {
     "data": {
      "text/plain": [
       "Index(['mean radius', 'mean texture', 'mean perimeter', 'mean area',\n",
       "       'mean smoothness', 'mean compactness', 'mean concavity',\n",
       "       'mean concave points', 'mean symmetry', 'mean fractal dimension'],\n",
       "      dtype='object')"
      ]
     },
     "execution_count": 11,
     "metadata": {},
     "output_type": "execute_result"
    }
   ],
   "source": [
    "# mean 데이터로만 입력값을 구성해보자\n",
    "df.columns[:10]"
   ]
  },
  {
   "cell_type": "code",
   "execution_count": 9,
   "metadata": {},
   "outputs": [
    {
     "data": {
      "text/plain": [
       "torch.Size([569, 31])"
      ]
     },
     "execution_count": 9,
     "metadata": {},
     "output_type": "execute_result"
    }
   ],
   "source": [
    "# PyTorch Tensor로 변환 후 double을 float로 변환해주기\n",
    "data = torch.from_numpy(df.values).float()   \n",
    "\n",
    "data.shape"
   ]
  },
  {
   "cell_type": "markdown",
   "metadata": {},
   "source": [
    "### columns -> features, target 나누기"
   ]
  },
  {
   "cell_type": "code",
   "execution_count": 89,
   "metadata": {},
   "outputs": [
    {
     "name": "stdout",
     "output_type": "stream",
     "text": [
      "torch.Size([569, 10]) torch.Size([569, 1])\n"
     ]
    }
   ],
   "source": [
    "# mean 데이터로만 입력값을 구성\n",
    "x = data[:, :10]\n",
    "\n",
    "# class(0 or 1)는 타겟값으로 구성\n",
    "y = data[:, -1:]\n",
    "\n",
    "print(x.shape, y.shape)"
   ]
  },
  {
   "cell_type": "markdown",
   "metadata": {},
   "source": [
    "## train set, validation, test set으로 랜덤하게 나누기"
   ]
  },
  {
   "cell_type": "code",
   "execution_count": 90,
   "metadata": {},
   "outputs": [],
   "source": [
    "# Train / Valid / Test ratio\n",
    "ratios = [.6, .2, .2]"
   ]
  },
  {
   "cell_type": "code",
   "execution_count": 91,
   "metadata": {},
   "outputs": [
    {
     "name": "stdout",
     "output_type": "stream",
     "text": [
      "Train 341 / Valid 113 / Test 115 samples.\n"
     ]
    }
   ],
   "source": [
    "train_cnt = int(data.size(0) * ratios[0])\n",
    "valid_cnt = int(data.size(0) * ratios[1])\n",
    "test_cnt = data.size(0) - train_cnt - valid_cnt\n",
    "cnts = [train_cnt, valid_cnt, test_cnt]\n",
    "\n",
    "print(\"Train %d / Valid %d / Test %d samples.\" % (train_cnt, valid_cnt, test_cnt))"
   ]
  },
  {
   "cell_type": "code",
   "execution_count": 92,
   "metadata": {},
   "outputs": [
    {
     "name": "stdout",
     "output_type": "stream",
     "text": [
      "torch.Size([341, 10]) torch.Size([341, 1])\n",
      "torch.Size([113, 10]) torch.Size([113, 1])\n",
      "torch.Size([115, 10]) torch.Size([115, 1])\n"
     ]
    }
   ],
   "source": [
    "# train, validation 데이터를 random index 기준으로 나누기\n",
    "indices = torch.randperm(data.size(0))\n",
    "\n",
    "x = torch.index_select(x, dim=0, index=indices)\n",
    "y = torch.index_select(y, dim=0, index=indices)\n",
    "\n",
    "x = x.split(cnts, dim=0)\n",
    "y = y.split(cnts, dim=0)\n",
    "\n",
    "for x_i, y_i in zip(x, y):\n",
    "    print(x_i.size(), y_i.size())"
   ]
  },
  {
   "cell_type": "raw",
   "metadata": {},
   "source": [
    "You don't need to shuffle them, if you have fixed train/valid/test set."
   ]
  },
  {
   "cell_type": "markdown",
   "metadata": {},
   "source": [
    "# 2. 학습 준비 (by Dataset, DataLoader)"
   ]
  },
  {
   "cell_type": "code",
   "execution_count": 93,
   "metadata": {},
   "outputs": [],
   "source": [
    "# Set Hyper Parameters\n",
    "n_epochs = 10000\n",
    "batch_size = 128\n",
    "print_interval = 500\n",
    "early_stop = 100"
   ]
  },
  {
   "cell_type": "code",
   "execution_count": 94,
   "metadata": {},
   "outputs": [],
   "source": [
    "from torch.utils.data import Dataset, DataLoader"
   ]
  },
  {
   "cell_type": "code",
   "execution_count": 95,
   "metadata": {},
   "outputs": [],
   "source": [
    "# DataSet에서 데이터 읽고, 전처리(데이터 나누기, Scaling)\n",
    "class CustomDataset(Dataset):  # Dataset 클래스를 상속받는다.\n",
    "    \n",
    "    # 데이터 읽어오기\n",
    "    def __init__(self, data, labels):\n",
    "        self.data = data\n",
    "        self.labels = labels\n",
    "        \n",
    "        super().__init__()\n",
    "        \n",
    "    # 데이터의 크기 알기\n",
    "    def __len__(self):\n",
    "        return len(self.data)\n",
    "    \n",
    "    # 전처리 및 미니배치를 위한 샘플 반환\n",
    "    def __getitem__(self, idx):\n",
    "        return self.data[idx], self.labels[idx]"
   ]
  },
  {
   "cell_type": "code",
   "execution_count": 96,
   "metadata": {},
   "outputs": [],
   "source": [
    "# DataLoader에서 iterator가 shuffle, 미니배치 chinking, iteration 세팅\n",
    "train_loader = DataLoader(\n",
    "    dataset=CustomDataset(x[0], y[0]),\n",
    "    batch_size=batch_size,\n",
    "    shuffle=True,    # 학습 셋만 shuffling이 필수다\n",
    ")\n",
    "\n",
    "valid_loader = DataLoader(\n",
    "    dataset=CustomDataset(x[1], y[1]),\n",
    "    batch_size=batch_size,\n",
    "    shuffle=False,\n",
    ")\n",
    "\n",
    "test_loader = DataLoader(\n",
    "    dataset=CustomDataset(x[2], y[2]),\n",
    "    batch_size=batch_size,\n",
    "    shuffle=False,\n",
    ")"
   ]
  },
  {
   "cell_type": "code",
   "execution_count": 97,
   "metadata": {},
   "outputs": [
    {
     "name": "stdout",
     "output_type": "stream",
     "text": [
      "Train 341 / Valid 113 / Test 115 samples.\n"
     ]
    }
   ],
   "source": [
    "# train, valid, test 데이터 각각의 DataLoader 객체 생성 완료\n",
    "print(\"Train %d / Valid %d / Test %d samples.\" % (\n",
    "    len(train_loader.dataset),\n",
    "    len(valid_loader.dataset),\n",
    "    len(test_loader.dataset),\n",
    "))"
   ]
  },
  {
   "cell_type": "code",
   "execution_count": 98,
   "metadata": {},
   "outputs": [
    {
     "name": "stdout",
     "output_type": "stream",
     "text": [
      "0 128 tensor([[1.2770e+01, 2.2470e+01, 8.1720e+01,  ..., 2.7040e-02, 1.5850e-01,\n",
      "         6.0650e-02],\n",
      "        [1.2450e+01, 1.6410e+01, 8.2850e+01,  ..., 4.8460e-02, 2.0820e-01,\n",
      "         7.3250e-02],\n",
      "        [1.2340e+01, 2.6860e+01, 8.1150e+01,  ..., 4.5620e-02, 1.9430e-01,\n",
      "         6.9370e-02],\n",
      "        ...,\n",
      "        [1.1750e+01, 2.0180e+01, 7.6100e+01,  ..., 3.7380e-02, 1.9930e-01,\n",
      "         6.4530e-02],\n",
      "        [1.3030e+01, 1.8420e+01, 8.2610e+01,  ..., 2.9230e-02, 1.4670e-01,\n",
      "         5.8630e-02],\n",
      "        [1.8010e+01, 2.0560e+01, 1.1840e+02,  ..., 7.7620e-02, 2.1160e-01,\n",
      "         6.0770e-02]])\n",
      "1 128 tensor([[1.5660e+01, 2.3200e+01, 1.1020e+02,  ..., 1.3770e-01, 2.4950e-01,\n",
      "         8.1040e-02],\n",
      "        [1.1930e+01, 2.1530e+01, 7.6530e+01,  ..., 2.0080e-02, 1.6880e-01,\n",
      "         6.1940e-02],\n",
      "        [2.0090e+01, 2.3860e+01, 1.3470e+02,  ..., 1.2800e-01, 2.2490e-01,\n",
      "         7.4690e-02],\n",
      "        ...,\n",
      "        [2.8110e+01, 1.8470e+01, 1.8850e+02,  ..., 1.5950e-01, 1.6480e-01,\n",
      "         5.5250e-02],\n",
      "        [1.1620e+01, 1.8180e+01, 7.6380e+01,  ..., 5.5640e-02, 1.9570e-01,\n",
      "         7.2550e-02],\n",
      "        [2.0580e+01, 2.2140e+01, 1.3470e+02,  ..., 9.5610e-02, 1.7650e-01,\n",
      "         5.0240e-02]])\n",
      "2 85 tensor([[1.6840e+01, 1.9460e+01, 1.0840e+02, 8.8020e+02, 7.4450e-02, 7.2230e-02,\n",
      "         5.1500e-02, 2.7710e-02, 1.8440e-01, 5.2680e-02],\n",
      "        [1.2890e+01, 1.4110e+01, 8.4950e+01, 5.1220e+02, 8.7600e-02, 1.3460e-01,\n",
      "         1.3740e-01, 3.9800e-02, 1.5960e-01, 6.4090e-02],\n",
      "        [1.4870e+01, 2.0210e+01, 9.6120e+01, 6.8090e+02, 9.5870e-02, 8.3450e-02,\n",
      "         6.8240e-02, 4.9510e-02, 1.4870e-01, 5.7480e-02],\n",
      "        [1.6260e+01, 2.1880e+01, 1.0750e+02, 8.2680e+02, 1.1650e-01, 1.2830e-01,\n",
      "         1.7990e-01, 7.9810e-02, 1.8690e-01, 6.5320e-02],\n",
      "        [1.4270e+01, 2.2550e+01, 9.3770e+01, 6.2980e+02, 1.0380e-01, 1.1540e-01,\n",
      "         1.4630e-01, 6.1390e-02, 1.9260e-01, 5.9820e-02],\n",
      "        [1.1360e+01, 1.7570e+01, 7.2490e+01, 3.9980e+02, 8.8580e-02, 5.3130e-02,\n",
      "         2.7830e-02, 2.1000e-02, 1.6010e-01, 5.9130e-02],\n",
      "        [1.6020e+01, 2.3240e+01, 1.0270e+02, 7.9780e+02, 8.2060e-02, 6.6690e-02,\n",
      "         3.2990e-02, 3.3230e-02, 1.5280e-01, 5.6970e-02],\n",
      "        [1.0570e+01, 2.0220e+01, 7.0150e+01, 3.3830e+02, 9.0730e-02, 1.6600e-01,\n",
      "         2.2800e-01, 5.9410e-02, 2.1880e-01, 8.4500e-02],\n",
      "        [2.0570e+01, 1.7770e+01, 1.3290e+02, 1.3260e+03, 8.4740e-02, 7.8640e-02,\n",
      "         8.6900e-02, 7.0170e-02, 1.8120e-01, 5.6670e-02],\n",
      "        [1.1260e+01, 1.9830e+01, 7.1300e+01, 3.8810e+02, 8.5110e-02, 4.4130e-02,\n",
      "         5.0670e-03, 5.6640e-03, 1.6370e-01, 6.3430e-02],\n",
      "        [1.3440e+01, 2.1580e+01, 8.6180e+01, 5.6300e+02, 8.1620e-02, 6.0310e-02,\n",
      "         3.1100e-02, 2.0310e-02, 1.7840e-01, 5.5870e-02],\n",
      "        [1.3000e+01, 2.1820e+01, 8.7500e+01, 5.1980e+02, 1.2730e-01, 1.9320e-01,\n",
      "         1.8590e-01, 9.3530e-02, 2.3500e-01, 7.3890e-02],\n",
      "        [1.9270e+01, 2.6470e+01, 1.2790e+02, 1.1620e+03, 9.4010e-02, 1.7190e-01,\n",
      "         1.6570e-01, 7.5930e-02, 1.8530e-01, 6.2610e-02],\n",
      "        [1.1710e+01, 1.5450e+01, 7.5030e+01, 4.2030e+02, 1.1500e-01, 7.2810e-02,\n",
      "         4.0060e-02, 3.2500e-02, 2.0090e-01, 6.5060e-02],\n",
      "        [1.1340e+01, 1.8610e+01, 7.2760e+01, 3.9120e+02, 1.0490e-01, 8.4990e-02,\n",
      "         4.3020e-02, 2.5940e-02, 1.9270e-01, 6.2110e-02],\n",
      "        [1.1570e+01, 1.9040e+01, 7.4200e+01, 4.0970e+02, 8.5460e-02, 7.7220e-02,\n",
      "         5.4850e-02, 1.4280e-02, 2.0310e-01, 6.2670e-02],\n",
      "        [1.7910e+01, 2.1020e+01, 1.2440e+02, 9.9400e+02, 1.2300e-01, 2.5760e-01,\n",
      "         3.1890e-01, 1.1980e-01, 2.1130e-01, 7.1150e-02],\n",
      "        [8.7340e+00, 1.6840e+01, 5.5270e+01, 2.3430e+02, 1.0390e-01, 7.4280e-02,\n",
      "         0.0000e+00, 0.0000e+00, 1.9850e-01, 7.0980e-02],\n",
      "        [1.4950e+01, 1.7570e+01, 9.6850e+01, 6.7810e+02, 1.1670e-01, 1.3050e-01,\n",
      "         1.5390e-01, 8.6240e-02, 1.9570e-01, 6.2160e-02],\n",
      "        [1.2720e+01, 1.3780e+01, 8.1780e+01, 4.9210e+02, 9.6670e-02, 8.3930e-02,\n",
      "         1.2880e-02, 1.9240e-02, 1.6380e-01, 6.1000e-02],\n",
      "        [1.2320e+01, 1.2390e+01, 7.8850e+01, 4.6410e+02, 1.0280e-01, 6.9810e-02,\n",
      "         3.9870e-02, 3.7000e-02, 1.9590e-01, 5.9550e-02],\n",
      "        [1.4260e+01, 1.9650e+01, 9.7830e+01, 6.2990e+02, 7.8370e-02, 2.2330e-01,\n",
      "         3.0030e-01, 7.7980e-02, 1.7040e-01, 7.7690e-02],\n",
      "        [1.1370e+01, 1.8890e+01, 7.2170e+01, 3.9600e+02, 8.7130e-02, 5.0080e-02,\n",
      "         2.3990e-02, 2.1730e-02, 2.0130e-01, 5.9550e-02],\n",
      "        [1.7930e+01, 2.4480e+01, 1.1520e+02, 9.9890e+02, 8.8550e-02, 7.0270e-02,\n",
      "         5.6990e-02, 4.7440e-02, 1.5380e-01, 5.5100e-02],\n",
      "        [1.0080e+01, 1.5110e+01, 6.3760e+01, 3.1750e+02, 9.2670e-02, 4.6950e-02,\n",
      "         1.5970e-03, 2.4040e-03, 1.7030e-01, 6.0480e-02],\n",
      "        [1.1740e+01, 1.4020e+01, 7.4240e+01, 4.2730e+02, 7.8130e-02, 4.3400e-02,\n",
      "         2.2450e-02, 2.7630e-02, 2.1010e-01, 6.1130e-02],\n",
      "        [1.2060e+01, 1.8900e+01, 7.6660e+01, 4.4530e+02, 8.3860e-02, 5.7940e-02,\n",
      "         7.5100e-03, 8.4880e-03, 1.5550e-01, 6.0480e-02],\n",
      "        [1.1740e+01, 1.4690e+01, 7.6310e+01, 4.2600e+02, 8.0990e-02, 9.6610e-02,\n",
      "         6.7260e-02, 2.6390e-02, 1.4990e-01, 6.7580e-02],\n",
      "        [9.9040e+00, 1.8060e+01, 6.4600e+01, 3.0240e+02, 9.6990e-02, 1.2940e-01,\n",
      "         1.3070e-01, 3.7160e-02, 1.6690e-01, 8.1160e-02],\n",
      "        [1.1760e+01, 2.1600e+01, 7.4720e+01, 4.2790e+02, 8.6370e-02, 4.9660e-02,\n",
      "         1.6570e-02, 1.1150e-02, 1.4950e-01, 5.8880e-02],\n",
      "        [1.3820e+01, 2.4490e+01, 9.2330e+01, 5.9590e+02, 1.1620e-01, 1.6810e-01,\n",
      "         1.3570e-01, 6.7590e-02, 2.2750e-01, 7.2370e-02],\n",
      "        [1.3430e+01, 1.9630e+01, 8.5840e+01, 5.6540e+02, 9.0480e-02, 6.2880e-02,\n",
      "         5.8580e-02, 3.4380e-02, 1.5980e-01, 5.6710e-02],\n",
      "        [1.3370e+01, 1.6390e+01, 8.6100e+01, 5.5350e+02, 7.1150e-02, 7.3250e-02,\n",
      "         8.0920e-02, 2.8000e-02, 1.4220e-01, 5.8230e-02],\n",
      "        [1.4970e+01, 1.9760e+01, 9.5500e+01, 6.9020e+02, 8.4210e-02, 5.3520e-02,\n",
      "         1.9470e-02, 1.9390e-02, 1.5150e-01, 5.2660e-02],\n",
      "        [9.7420e+00, 1.9120e+01, 6.1930e+01, 2.8970e+02, 1.0750e-01, 8.3330e-02,\n",
      "         8.9340e-03, 1.9670e-02, 2.5380e-01, 7.0290e-02],\n",
      "        [1.0490e+01, 1.8610e+01, 6.6860e+01, 3.3430e+02, 1.0680e-01, 6.6780e-02,\n",
      "         2.2970e-02, 1.7800e-02, 1.4820e-01, 6.6000e-02],\n",
      "        [1.0260e+01, 1.6580e+01, 6.5850e+01, 3.2080e+02, 8.8770e-02, 8.0660e-02,\n",
      "         4.3580e-02, 2.4380e-02, 1.6690e-01, 6.7140e-02],\n",
      "        [1.1460e+01, 1.8160e+01, 7.3590e+01, 4.0310e+02, 8.8530e-02, 7.6940e-02,\n",
      "         3.3440e-02, 1.5020e-02, 1.4110e-01, 6.2430e-02],\n",
      "        [1.3560e+01, 1.3900e+01, 8.8590e+01, 5.6130e+02, 1.0510e-01, 1.1920e-01,\n",
      "         7.8600e-02, 4.4510e-02, 1.9620e-01, 6.3030e-02],\n",
      "        [1.5730e+01, 1.1280e+01, 1.0280e+02, 7.4720e+02, 1.0430e-01, 1.2990e-01,\n",
      "         1.1910e-01, 6.2110e-02, 1.7840e-01, 6.2590e-02],\n",
      "        [2.0940e+01, 2.3560e+01, 1.3890e+02, 1.3640e+03, 1.0070e-01, 1.6060e-01,\n",
      "         2.7120e-01, 1.3100e-01, 2.2050e-01, 5.8980e-02],\n",
      "        [2.1610e+01, 2.2280e+01, 1.4440e+02, 1.4070e+03, 1.1670e-01, 2.0870e-01,\n",
      "         2.8100e-01, 1.5620e-01, 2.1620e-01, 6.6060e-02],\n",
      "        [1.2340e+01, 1.2270e+01, 7.8940e+01, 4.6850e+02, 9.0030e-02, 6.3070e-02,\n",
      "         2.9580e-02, 2.6470e-02, 1.6890e-01, 5.8080e-02],\n",
      "        [1.1760e+01, 1.8140e+01, 7.5000e+01, 4.3110e+02, 9.9680e-02, 5.9140e-02,\n",
      "         2.6850e-02, 3.5150e-02, 1.6190e-01, 6.2870e-02],\n",
      "        [1.1160e+01, 2.1410e+01, 7.0950e+01, 3.8030e+02, 1.0180e-01, 5.9780e-02,\n",
      "         8.9550e-03, 1.0760e-02, 1.6150e-01, 6.1440e-02],\n",
      "        [1.2830e+01, 1.5730e+01, 8.2890e+01, 5.0690e+02, 9.0400e-02, 8.2690e-02,\n",
      "         5.8350e-02, 3.0780e-02, 1.7050e-01, 5.9130e-02],\n",
      "        [9.7420e+00, 1.5670e+01, 6.1500e+01, 2.8990e+02, 9.0370e-02, 4.6890e-02,\n",
      "         1.1030e-02, 1.4070e-02, 2.0810e-01, 6.3120e-02],\n",
      "        [1.1520e+01, 1.4930e+01, 7.3870e+01, 4.0630e+02, 1.0130e-01, 7.8080e-02,\n",
      "         4.3280e-02, 2.9290e-02, 1.8830e-01, 6.1680e-02],\n",
      "        [1.4990e+01, 2.5200e+01, 9.5540e+01, 6.9880e+02, 9.3870e-02, 5.1310e-02,\n",
      "         2.3980e-02, 2.8990e-02, 1.5650e-01, 5.5040e-02],\n",
      "        [1.3400e+01, 2.0520e+01, 8.8640e+01, 5.5670e+02, 1.1060e-01, 1.4690e-01,\n",
      "         1.4450e-01, 8.1720e-02, 2.1160e-01, 7.3250e-02],\n",
      "        [1.2760e+01, 1.8840e+01, 8.1870e+01, 4.9660e+02, 9.6760e-02, 7.9520e-02,\n",
      "         2.6880e-02, 1.7810e-02, 1.7590e-01, 6.1830e-02],\n",
      "        [1.4620e+01, 2.4020e+01, 9.4570e+01, 6.6270e+02, 8.9740e-02, 8.6060e-02,\n",
      "         3.1020e-02, 2.9570e-02, 1.6850e-01, 5.8660e-02],\n",
      "        [1.1060e+01, 1.4830e+01, 7.0310e+01, 3.7820e+02, 7.7410e-02, 4.7680e-02,\n",
      "         2.7120e-02, 7.2460e-03, 1.5350e-01, 6.2140e-02],\n",
      "        [9.0420e+00, 1.8900e+01, 6.0070e+01, 2.4450e+02, 9.9680e-02, 1.9720e-01,\n",
      "         1.9750e-01, 4.9080e-02, 2.3300e-01, 8.7430e-02],\n",
      "        [1.4610e+01, 1.5690e+01, 9.2680e+01, 6.6490e+02, 7.6180e-02, 3.5150e-02,\n",
      "         1.4470e-02, 1.8770e-02, 1.6320e-01, 5.2550e-02],\n",
      "        [2.0290e+01, 1.4340e+01, 1.3510e+02, 1.2970e+03, 1.0030e-01, 1.3280e-01,\n",
      "         1.9800e-01, 1.0430e-01, 1.8090e-01, 5.8830e-02],\n",
      "        [2.1710e+01, 1.7250e+01, 1.4090e+02, 1.5460e+03, 9.3840e-02, 8.5620e-02,\n",
      "         1.1680e-01, 8.4650e-02, 1.7170e-01, 5.0540e-02],\n",
      "        [1.2180e+01, 1.7840e+01, 7.7790e+01, 4.5110e+02, 1.0450e-01, 7.0570e-02,\n",
      "         2.4900e-02, 2.9410e-02, 1.9000e-01, 6.6350e-02],\n",
      "        [1.3900e+01, 1.9240e+01, 8.8730e+01, 6.0290e+02, 7.9910e-02, 5.3260e-02,\n",
      "         2.9950e-02, 2.0700e-02, 1.5790e-01, 5.5940e-02],\n",
      "        [1.9020e+01, 2.4590e+01, 1.2200e+02, 1.0760e+03, 9.0290e-02, 1.2060e-01,\n",
      "         1.4680e-01, 8.2710e-02, 1.9530e-01, 5.6290e-02],\n",
      "        [1.1890e+01, 1.7360e+01, 7.6200e+01, 4.3560e+02, 1.2250e-01, 7.2100e-02,\n",
      "         5.9290e-02, 7.4040e-02, 2.0150e-01, 5.8750e-02],\n",
      "        [1.1870e+01, 2.1540e+01, 7.6830e+01, 4.3200e+02, 6.6130e-02, 1.0640e-01,\n",
      "         8.7770e-02, 2.3860e-02, 1.3490e-01, 6.6120e-02],\n",
      "        [1.3850e+01, 1.5180e+01, 8.8990e+01, 5.8740e+02, 9.5160e-02, 7.6880e-02,\n",
      "         4.4790e-02, 3.7110e-02, 2.1100e-01, 5.8530e-02],\n",
      "        [2.0130e+01, 2.8250e+01, 1.3120e+02, 1.2610e+03, 9.7800e-02, 1.0340e-01,\n",
      "         1.4400e-01, 9.7910e-02, 1.7520e-01, 5.5330e-02],\n",
      "        [1.4530e+01, 1.3980e+01, 9.3860e+01, 6.4420e+02, 1.0990e-01, 9.2420e-02,\n",
      "         6.8950e-02, 6.4950e-02, 1.6500e-01, 6.1210e-02],\n",
      "        [1.3510e+01, 1.8890e+01, 8.8100e+01, 5.5810e+02, 1.0590e-01, 1.1470e-01,\n",
      "         8.5800e-02, 5.3810e-02, 1.8060e-01, 6.0790e-02],\n",
      "        [1.0490e+01, 1.9290e+01, 6.7410e+01, 3.3610e+02, 9.9890e-02, 8.5780e-02,\n",
      "         2.9950e-02, 1.2010e-02, 2.2170e-01, 6.4810e-02],\n",
      "        [1.3740e+01, 1.7910e+01, 8.8120e+01, 5.8500e+02, 7.9440e-02, 6.3760e-02,\n",
      "         2.8810e-02, 1.3290e-02, 1.4730e-01, 5.5800e-02],\n",
      "        [1.2230e+01, 1.9560e+01, 7.8540e+01, 4.6100e+02, 9.5860e-02, 8.0870e-02,\n",
      "         4.1870e-02, 4.1070e-02, 1.9790e-01, 6.0130e-02],\n",
      "        [1.2060e+01, 1.2740e+01, 7.6840e+01, 4.4860e+02, 9.3110e-02, 5.2410e-02,\n",
      "         1.9720e-02, 1.9630e-02, 1.5900e-01, 5.9070e-02],\n",
      "        [1.2050e+01, 1.4630e+01, 7.8040e+01, 4.4930e+02, 1.0310e-01, 9.0920e-02,\n",
      "         6.5920e-02, 2.7490e-02, 1.6750e-01, 6.0430e-02],\n",
      "        [1.8310e+01, 2.0580e+01, 1.2080e+02, 1.0520e+03, 1.0680e-01, 1.2480e-01,\n",
      "         1.5690e-01, 9.4510e-02, 1.8600e-01, 5.9410e-02],\n",
      "        [1.3870e+01, 2.0700e+01, 8.9770e+01, 5.8480e+02, 9.5780e-02, 1.0180e-01,\n",
      "         3.6880e-02, 2.3690e-02, 1.6200e-01, 6.6880e-02],\n",
      "        [1.1600e+01, 2.4490e+01, 7.4230e+01, 4.1720e+02, 7.4740e-02, 5.6880e-02,\n",
      "         1.9740e-02, 1.3130e-02, 1.9350e-01, 5.8780e-02],\n",
      "        [1.4450e+01, 2.0220e+01, 9.4490e+01, 6.4270e+02, 9.8720e-02, 1.2060e-01,\n",
      "         1.1800e-01, 5.9800e-02, 1.9500e-01, 6.4660e-02],\n",
      "        [1.3170e+01, 2.1810e+01, 8.5420e+01, 5.3150e+02, 9.7140e-02, 1.0470e-01,\n",
      "         8.2590e-02, 5.2520e-02, 1.7460e-01, 6.1770e-02],\n",
      "        [9.7310e+00, 1.5340e+01, 6.3780e+01, 3.0020e+02, 1.0720e-01, 1.5990e-01,\n",
      "         4.1080e-01, 7.8570e-02, 2.5480e-01, 9.2960e-02],\n",
      "        [1.2460e+01, 1.2830e+01, 7.8830e+01, 4.7730e+02, 7.3720e-02, 4.0430e-02,\n",
      "         7.1730e-03, 1.1490e-02, 1.6130e-01, 6.0130e-02],\n",
      "        [1.8220e+01, 1.8700e+01, 1.2030e+02, 1.0330e+03, 1.1480e-01, 1.4850e-01,\n",
      "         1.7720e-01, 1.0600e-01, 2.0920e-01, 6.3100e-02],\n",
      "        [1.3850e+01, 1.9600e+01, 8.8680e+01, 5.9260e+02, 8.6840e-02, 6.3300e-02,\n",
      "         1.3420e-02, 2.2930e-02, 1.5550e-01, 5.6730e-02],\n",
      "        [1.2720e+01, 1.7670e+01, 8.0980e+01, 5.0130e+02, 7.8960e-02, 4.5220e-02,\n",
      "         1.4020e-02, 1.8350e-02, 1.4590e-01, 5.5440e-02],\n",
      "        [9.0000e+00, 1.4400e+01, 5.6360e+01, 2.4630e+02, 7.0050e-02, 3.1160e-02,\n",
      "         3.6810e-03, 3.4720e-03, 1.7880e-01, 6.8330e-02],\n",
      "        [1.7290e+01, 2.2130e+01, 1.1440e+02, 9.4780e+02, 8.9990e-02, 1.2730e-01,\n",
      "         9.6970e-02, 7.5070e-02, 2.1080e-01, 5.4640e-02],\n",
      "        [1.6780e+01, 1.8800e+01, 1.0930e+02, 8.8630e+02, 8.8650e-02, 9.1820e-02,\n",
      "         8.4220e-02, 6.5760e-02, 1.8930e-01, 5.5340e-02],\n",
      "        [1.2870e+01, 1.9540e+01, 8.2670e+01, 5.0920e+02, 9.1360e-02, 7.8830e-02,\n",
      "         1.7970e-02, 2.0900e-02, 1.8610e-01, 6.3470e-02]])\n"
     ]
    }
   ],
   "source": [
    "# 학습 셋(341)을 batch_size(128)로 나누기 : train_loader는 3 chunk(128/128/85 samples)로 나뉘어짐\n",
    "\n",
    "i = 0\n",
    "for x_i, y_i in train_loader:\n",
    "    print(i, len(x_i), x_i)\n",
    "    i+=1"
   ]
  },
  {
   "cell_type": "raw",
   "metadata": {},
   "source": [
    "-> DataLoader : shuffle, 미니배치 chinking, iteration 세팅 완료\n",
    "(train_loader, valid_loader, test_loader)\n",
    "나중에 모델 학습 시 미니배치 chunk를 하나씩 가져와서 학습 iteration을 돌린다."
   ]
  },
  {
   "cell_type": "markdown",
   "metadata": {},
   "source": [
    "# 3. Build Model & Optimizer"
   ]
  },
  {
   "cell_type": "code",
   "execution_count": 99,
   "metadata": {},
   "outputs": [
    {
     "name": "stdout",
     "output_type": "stream",
     "text": [
      "10\n",
      "1\n"
     ]
    }
   ],
   "source": [
    "print(x[0].size(-1))  # 입력 데이터 차원 수 : 10\n",
    "print(y[0].size(-1))  # 출력 데이터 차원 수 : 1 (sigmoid binary classification)"
   ]
  },
  {
   "cell_type": "code",
   "execution_count": 100,
   "metadata": {},
   "outputs": [
    {
     "data": {
      "text/plain": [
       "Sequential(\n",
       "  (0): Linear(in_features=10, out_features=6, bias=True)\n",
       "  (1): LeakyReLU(negative_slope=0.01)\n",
       "  (2): Linear(in_features=6, out_features=5, bias=True)\n",
       "  (3): LeakyReLU(negative_slope=0.01)\n",
       "  (4): Linear(in_features=5, out_features=4, bias=True)\n",
       "  (5): LeakyReLU(negative_slope=0.01)\n",
       "  (6): Linear(in_features=4, out_features=3, bias=True)\n",
       "  (7): LeakyReLU(negative_slope=0.01)\n",
       "  (8): Linear(in_features=3, out_features=1, bias=True)\n",
       "  (9): Sigmoid()\n",
       ")"
      ]
     },
     "execution_count": 100,
     "metadata": {},
     "output_type": "execute_result"
    }
   ],
   "source": [
    "# DNN 모델 구성(이진 분류)\n",
    "model = nn.Sequential(\n",
    "    nn.Linear(x[0].size(-1), 6),  # 입력 데이터 10차원 -> 6\n",
    "    nn.LeakyReLU(),               \n",
    "    nn.Linear(6, 5),              # 6 -> 5\n",
    "    nn.LeakyReLU(),\n",
    "    nn.Linear(5, 4),              # 5 -> 4\n",
    "    nn.LeakyReLU(),\n",
    "    nn.Linear(4, 3),              # 4 -> 3\n",
    "    nn.LeakyReLU(),\n",
    "    nn.Linear(3, y[0].size(-1)),  # 3 -> 출력 1차원\n",
    "    nn.Sigmoid(),   # 이진 분류이므로 sigmoid\n",
    ")\n",
    "\n",
    "model"
   ]
  },
  {
   "cell_type": "code",
   "execution_count": 101,
   "metadata": {},
   "outputs": [
    {
     "data": {
      "text/plain": [
       "Adam (\n",
       "Parameter Group 0\n",
       "    amsgrad: False\n",
       "    betas: (0.9, 0.999)\n",
       "    eps: 1e-08\n",
       "    lr: 0.001\n",
       "    weight_decay: 0\n",
       ")"
      ]
     },
     "execution_count": 101,
     "metadata": {},
     "output_type": "execute_result"
    }
   ],
   "source": [
    "# 옵티마이저는 adam\n",
    "optimizer = optim.Adam(model.parameters())\n",
    "optimizer"
   ]
  },
  {
   "cell_type": "markdown",
   "metadata": {},
   "source": [
    "# 4. 학습(Train)"
   ]
  },
  {
   "cell_type": "code",
   "execution_count": 102,
   "metadata": {},
   "outputs": [],
   "source": [
    "from copy import deepcopy\n",
    "\n",
    "lowest_loss = np.inf\n",
    "best_model = None\n",
    "\n",
    "lowest_epoch = np.inf"
   ]
  },
  {
   "cell_type": "raw",
   "metadata": {},
   "source": [
    "# ignite 적용 전\n",
    "아래 학습 코드는 ignite로 좀 더 개선 가능"
   ]
  },
  {
   "cell_type": "code",
   "execution_count": 103,
   "metadata": {},
   "outputs": [
    {
     "name": "stderr",
     "output_type": "stream",
     "text": [
      "/Users/aiden/opt/anaconda3/lib/python3.7/site-packages/ipykernel_launcher.py:5: TqdmDeprecationWarning: This function will be removed in tqdm==5.0.0\n",
      "Please use `tqdm.notebook.tqdm` instead of `tqdm.tqdm_notebook`\n",
      "  \"\"\"\n"
     ]
    },
    {
     "data": {
      "application/vnd.jupyter.widget-view+json": {
       "model_id": "b0be1b4d1a0646afbb4172c484db73ad",
       "version_major": 2,
       "version_minor": 0
      },
      "text/plain": [
       "  0%|          | 0/10000 [00:00<?, ?it/s]"
      ]
     },
     "metadata": {},
     "output_type": "display_data"
    },
    {
     "name": "stdout",
     "output_type": "stream",
     "text": [
      "Epoch 500: train loss=4.0054e-01  valid_loss=4.2739e-01  lowest_loss=4.2824e-01\n",
      "Epoch 1000: train loss=2.4316e-01  valid_loss=3.1292e-01  lowest_loss=3.0002e-01\n",
      "Epoch 1500: train loss=2.3186e-01  valid_loss=2.7513e-01  lowest_loss=2.7092e-01\n",
      "Epoch 2000: train loss=2.2702e-01  valid_loss=2.5723e-01  lowest_loss=2.4028e-01\n",
      "Epoch 2500: train loss=1.9388e-01  valid_loss=2.1675e-01  lowest_loss=2.0258e-01\n",
      "Epoch 3000: train loss=1.8463e-01  valid_loss=1.7310e-01  lowest_loss=1.7031e-01\n",
      "Epoch 3500: train loss=1.6499e-01  valid_loss=1.5910e-01  lowest_loss=1.5437e-01\n",
      "Epoch 4000: train loss=1.8802e-01  valid_loss=1.5735e-01  lowest_loss=1.4653e-01\n",
      "Epoch 4500: train loss=1.8998e-01  valid_loss=1.6274e-01  lowest_loss=1.4287e-01\n",
      "Epoch 5000: train loss=1.6025e-01  valid_loss=1.9853e-01  lowest_loss=1.4119e-01\n",
      "There is no improvement during last 100 epochs.\n",
      "The best validation loss from epoch 4908: 1.4119e-01\n"
     ]
    },
    {
     "data": {
      "text/plain": [
       "<All keys matched successfully>"
      ]
     },
     "execution_count": 103,
     "metadata": {},
     "output_type": "execute_result"
    }
   ],
   "source": [
    "import torch.nn.functional as F\n",
    "\n",
    "# 학습 히스토리 plot 그려보기\n",
    "train_history, valid_history = [], []\n",
    "\n",
    "for i in tqdm_notebook(range(n_epochs)):\n",
    "    \n",
    "    # 모델의 train 모드 turn on\n",
    "    model.train() \n",
    "    \n",
    "    # (딥초)shuffling and mini-batch chunking for each epoch -> We can remove following code block. \n",
    "    # 이제 이 작업은 DataLoader가 대신 해준다.\n",
    "    # ------------------------------------------------------\n",
    "    # indices = torch.randperm(x[0].size(0))\n",
    "    # x_ = torch.index_select(x[0], dim=0, index=indices)\n",
    "    # y_ = torch.index_select(y[0], dim=0, index=indices)\n",
    "    #\n",
    "    # x_ = x_.split(batch_size, dim=0)\n",
    "    # y_ = y_.split(batch_size, dim=0)\n",
    "    # ------------------------------------------------------\n",
    "\n",
    "    train_loss, valid_loss = 0, 0\n",
    "    y_hat = []\n",
    "    \n",
    "    # DataLoader로 준비된 미니배치 chunk를 하나씩 가져와서 학습 iteration을 돌린다.\n",
    "    # train_loader는 3 chunk(128/128/85 samples)로 나뉘어져 있다. |xi| = (bs=128, 10),   [yi] = (bs=128, 1)\n",
    "    for x_i, y_i in train_loader:  # 미니배치 chunk 3개를 차례로 돌면서 모델 학습\n",
    "        y_hat_i = model(x_i)\n",
    "        loss = F.binary_cross_entropy(y_hat_i, y_i)   # 이진 분류 오차 함수\n",
    "\n",
    "        optimizer.zero_grad()\n",
    "        loss.backward()       # 오차역전파\n",
    "        optimizer.step()      # optimizer\n",
    "        train_loss += float(loss)  # This is very important to prevent memory leak.\n",
    "    \n",
    "    # 학습 loss 계산\n",
    "    train_loss = train_loss / len(train_loader)\n",
    "    # -> 한 epoch의 학습 끝\n",
    "\n",
    "    # 모델의 validation 모드 turn on\n",
    "    model.eval()\n",
    "    with torch.no_grad():\n",
    "        valid_loss = 0\n",
    "        \n",
    "        for x_i, y_i in valid_loader:\n",
    "            y_hat_i = model(x_i)\n",
    "            loss = F.binary_cross_entropy(y_hat_i, y_i)\n",
    "            \n",
    "            valid_loss += float(loss)\n",
    "            \n",
    "            y_hat += [y_hat_i]\n",
    "            \n",
    "    valid_loss = valid_loss / len(valid_loader)\n",
    "    \n",
    "    # 매 epoch마다 학습, 검증이 끝나면 train, valid loss들을 history에 저장해둔다.\n",
    "    train_history += [train_loss]\n",
    "    valid_history += [valid_loss]\n",
    "        \n",
    "    # print_interval(500) epoch마다 학습 진행상황 출력\n",
    "    if (i + 1) % print_interval == 0:\n",
    "        print('Epoch %d: train loss=%.4e  valid_loss=%.4e  lowest_loss=%.4e' % (\n",
    "            i + 1,\n",
    "            train_loss,\n",
    "            valid_loss,\n",
    "            lowest_loss,\n",
    "        ))\n",
    "        \n",
    "    # 매 epoch이 끝날 때 마다 valid loss가 갱신되면 best model로 저장한다.\n",
    "    if valid_loss <= lowest_loss:\n",
    "        lowest_loss = valid_loss\n",
    "        lowest_epoch = i\n",
    "        \n",
    "        best_model = deepcopy(model.state_dict())\n",
    "    else:  \n",
    "        # early_stop 조건동안 valid loss 갱신이 없으면 early_stop \n",
    "        if early_stop > 0 and lowest_epoch + early_stop < i + 1:\n",
    "            print(\"There is no improvement during last %d epochs.\" % early_stop)\n",
    "            break\n",
    "\n",
    "print(\"The best validation loss from epoch %d: %.4e\" % (lowest_epoch + 1, lowest_loss))\n",
    "model.load_state_dict(best_model) "
   ]
  },
  {
   "cell_type": "raw",
   "metadata": {},
   "source": [
    "-> 학습 결과 4908 epoch에서 가장 낮은 valid loss 1.4119e-01를 가진다."
   ]
  },
  {
   "cell_type": "markdown",
   "metadata": {},
   "source": [
    "# 5. 학습 결과 확인(plot)"
   ]
  },
  {
   "cell_type": "markdown",
   "metadata": {},
   "source": [
    "## Loss History"
   ]
  },
  {
   "cell_type": "code",
   "execution_count": 109,
   "metadata": {},
   "outputs": [
    {
     "data": {
      "image/png": "[encoded data removed]",
      "text/plain": [
       "<Figure size 1440x720 with 1 Axes>"
      ]
     },
     "metadata": {
      "needs_background": "light"
     },
     "output_type": "display_data"
    }
   ],
   "source": [
    "plot_from = 2\n",
    "\n",
    "plt.figure(figsize=(20, 10))\n",
    "plt.grid(True)\n",
    "plt.title(\"Train / Valid Loss History\")\n",
    "plt.plot(range(plot_from, len(train_history)), train_history[plot_from:], label='train_loss')\n",
    "plt.plot(range(plot_from, len(valid_history)), valid_history[plot_from:], label='valid_loss')\n",
    "plt.legend(fontsize=20)\n",
    "\n",
    "plt.yscale('log')\n",
    "plt.show()"
   ]
  },
  {
   "cell_type": "raw",
   "metadata": {},
   "source": [
    "-> train, valid loss가 쭉 떨어지다가 valid loss가 epoch 4908에서 최대로 낮고, 학습이 종료되었다."
   ]
  },
  {
   "cell_type": "markdown",
   "metadata": {},
   "source": [
    "# 6. 테스트(test)"
   ]
  },
  {
   "cell_type": "markdown",
   "metadata": {},
   "source": [
    "## test loss 확인"
   ]
  },
  {
   "cell_type": "code",
   "execution_count": 112,
   "metadata": {},
   "outputs": [
    {
     "name": "stdout",
     "output_type": "stream",
     "text": [
      "Test loss: 1.4644e-01\n"
     ]
    }
   ],
   "source": [
    "test_loss = 0\n",
    "y_hat = []\n",
    "\n",
    "model.eval()\n",
    "with torch.no_grad():\n",
    "    for x_i, y_i in test_loader:\n",
    "        y_hat_i = model(x_i)\n",
    "        loss = F.binary_cross_entropy(y_hat_i, y_i)\n",
    "\n",
    "        test_loss += loss # Gradient is already detached.\n",
    "\n",
    "        y_hat += [y_hat_i]\n",
    "\n",
    "test_loss = test_loss / len(test_loader)\n",
    "y_hat = torch.cat(y_hat, dim=0)\n",
    "\n",
    "print(\"Test loss: %.4e\" % test_loss)"
   ]
  },
  {
   "cell_type": "raw",
   "metadata": {},
   "source": [
    "-> 학습 결과 (valid) loss 1.4119e-01 보다는 조금 높은 loss가 나왔다."
   ]
  },
  {
   "cell_type": "code",
   "execution_count": 119,
   "metadata": {},
   "outputs": [
    {
     "name": "stdout",
     "output_type": "stream",
     "text": [
      "torch.Size([115, 1])\n"
     ]
    },
    {
     "data": {
      "text/plain": [
       "tensor([[ True],\n",
       "        [ True],\n",
       "        [ True],\n",
       "        [False],\n",
       "        [False],\n",
       "        [False],\n",
       "        [False],\n",
       "        [ True],\n",
       "        [False],\n",
       "        [ True],\n",
       "        [ True],\n",
       "        [ True],\n",
       "        [False],\n",
       "        [False],\n",
       "        [ True],\n",
       "        [False],\n",
       "        [False],\n",
       "        [False],\n",
       "        [False],\n",
       "        [ True],\n",
       "        [ True],\n",
       "        [ True],\n",
       "        [ True],\n",
       "        [ True],\n",
       "        [ True],\n",
       "        [ True],\n",
       "        [False],\n",
       "        [False],\n",
       "        [ True],\n",
       "        [ True],\n",
       "        [ True],\n",
       "        [ True],\n",
       "        [ True],\n",
       "        [ True],\n",
       "        [False],\n",
       "        [ True],\n",
       "        [ True],\n",
       "        [ True],\n",
       "        [ True],\n",
       "        [ True],\n",
       "        [ True],\n",
       "        [False],\n",
       "        [ True],\n",
       "        [ True],\n",
       "        [ True],\n",
       "        [ True],\n",
       "        [ True],\n",
       "        [False],\n",
       "        [ True],\n",
       "        [False],\n",
       "        [False],\n",
       "        [ True],\n",
       "        [False],\n",
       "        [False],\n",
       "        [ True],\n",
       "        [ True],\n",
       "        [ True],\n",
       "        [ True],\n",
       "        [False],\n",
       "        [False],\n",
       "        [ True],\n",
       "        [False],\n",
       "        [False],\n",
       "        [ True],\n",
       "        [False],\n",
       "        [ True],\n",
       "        [ True],\n",
       "        [ True],\n",
       "        [False],\n",
       "        [ True],\n",
       "        [False],\n",
       "        [False],\n",
       "        [ True],\n",
       "        [False],\n",
       "        [ True],\n",
       "        [ True],\n",
       "        [ True],\n",
       "        [False],\n",
       "        [ True],\n",
       "        [ True],\n",
       "        [False],\n",
       "        [ True],\n",
       "        [ True],\n",
       "        [ True],\n",
       "        [ True],\n",
       "        [ True],\n",
       "        [ True],\n",
       "        [ True],\n",
       "        [ True],\n",
       "        [ True],\n",
       "        [False],\n",
       "        [ True],\n",
       "        [ True],\n",
       "        [ True],\n",
       "        [False],\n",
       "        [ True],\n",
       "        [False],\n",
       "        [False],\n",
       "        [ True],\n",
       "        [False],\n",
       "        [ True],\n",
       "        [ True],\n",
       "        [False],\n",
       "        [False],\n",
       "        [ True],\n",
       "        [False],\n",
       "        [ True],\n",
       "        [ True],\n",
       "        [False],\n",
       "        [ True],\n",
       "        [ True],\n",
       "        [ True],\n",
       "        [ True],\n",
       "        [ True],\n",
       "        [ True]])"
      ]
     },
     "execution_count": 119,
     "metadata": {},
     "output_type": "execute_result"
    }
   ],
   "source": [
    "# 예측값 결과\n",
    "pred = y_hat > .5\n",
    "\n",
    "# 예측값 |yi_hat| = (test_cnt, 1)\n",
    "print(pred.shape)  # test_cnt : 115\n",
    "pred"
   ]
  },
  {
   "cell_type": "markdown",
   "metadata": {},
   "source": [
    "## test accuracy 확인"
   ]
  },
  {
   "cell_type": "code",
   "execution_count": 115,
   "metadata": {},
   "outputs": [
    {
     "name": "stdout",
     "output_type": "stream",
     "text": [
      "Test Accuracy: 0.9304\n"
     ]
    }
   ],
   "source": [
    "# 실제값(y[2])과 예측값(y_hat > .5) 비교해서 맞은 갯수의 비율 구하기\n",
    "correct_cnt = (y[2] == (y_hat > .5)).sum()   # 예측값 |yi_hat| = (bs x k = test_cnt, 1)\n",
    "total_cnt = float(y[2].size(0))\n",
    "\n",
    "print('Test Accuracy: %.4f' % (correct_cnt / total_cnt))"
   ]
  },
  {
   "cell_type": "code",
   "execution_count": null,
   "metadata": {},
   "outputs": [],
   "source": []
  }
 ],
 "metadata": {
  "kernelspec": {
   "display_name": "Python 3",
   "language": "python",
   "name": "python3"
  },
  "language_info": {
   "codemirror_mode": {
    "name": "ipython",
    "version": 3
   },
   "file_extension": ".py",
   "mimetype": "text/x-python",
   "name": "python",
   "nbconvert_exporter": "python",
   "pygments_lexer": "ipython3",
   "version": "3.7.6"
  },
  "varInspector": {
   "cols": {
    "lenName": 16,
    "lenType": 16,
    "lenVar": 40
   },
   "kernels_config": {
    "python": {
     "delete_cmd_postfix": "",
     "delete_cmd_prefix": "del ",
     "library": "var_list.py",
     "varRefreshCmd": "print(var_dic_list())"
    },
    "r": {
     "delete_cmd_postfix": ") ",
     "delete_cmd_prefix": "rm(",
     "library": "var_list.r",
     "varRefreshCmd": "cat(var_dic_list()) "
    }
   },
   "types_to_exclude": [
    "module",
    "function",
    "builtin_function_or_method",
    "instance",
    "_Feature"
   ],
   "window_display": false
  }
 },
 "nbformat": 4,
 "nbformat_minor": 2
}
